{
 "cells": [
  {
   "cell_type": "markdown",
   "metadata": {},
   "source": [
    "# Toronto House Price Web Scrape"
   ]
  },
  {
   "cell_type": "code",
   "execution_count": 1,
   "metadata": {
    "scrolled": true
   },
   "outputs": [
    {
     "data": {
      "text/html": [
       "<style type='text/css'>\n",
       ".datatable table.frame { margin-bottom: 0; }\n",
       ".datatable table.frame thead { border-bottom: none; }\n",
       ".datatable table.frame tr.coltypes td {  color: #FFFFFF;  line-height: 6px;  padding: 0 0.5em;}\n",
       ".datatable .bool    { background: #DDDD99; }\n",
       ".datatable .object  { background: #565656; }\n",
       ".datatable .int     { background: #5D9E5D; }\n",
       ".datatable .float   { background: #4040CC; }\n",
       ".datatable .str     { background: #CC4040; }\n",
       ".datatable .row_index {  background: var(--jp-border-color3);  border-right: 1px solid var(--jp-border-color0);  color: var(--jp-ui-font-color3);  font-size: 9px;}\n",
       ".datatable .frame tr.coltypes .row_index {  background: var(--jp-border-color0);}\n",
       ".datatable th:nth-child(2) { padding-left: 12px; }\n",
       ".datatable .hellipsis {  color: var(--jp-cell-editor-border-color);}\n",
       ".datatable .vellipsis {  background: var(--jp-layout-color0);  color: var(--jp-cell-editor-border-color);}\n",
       ".datatable .na {  color: var(--jp-cell-editor-border-color);  font-size: 80%;}\n",
       ".datatable .footer { font-size: 9px; }\n",
       ".datatable .frame_dimensions {  background: var(--jp-border-color3);  border-top: 1px solid var(--jp-border-color0);  color: var(--jp-ui-font-color3);  display: inline-block;  opacity: 0.6;  padding: 1px 10px 1px 5px;}\n",
       "</style>\n"
      ],
      "text/plain": [
       "<IPython.core.display.HTML object>"
      ]
     },
     "metadata": {},
     "output_type": "display_data"
    }
   ],
   "source": [
    "import numpy as np\n",
    "import pandas as pd\n",
    "import seaborn as sns\n",
    "import matplotlib.pyplot as plt\n",
    "import re\n",
    "import lightgbm\n",
    "\n",
    "from sklearn.linear_model import LogisticRegression\n",
    "from sklearn.model_selection import train_test_split\n",
    "from sklearn import preprocessing\n",
    "\n",
    "import statsmodels.api as sm\n",
    "import statsmodels.formula.api as smf\n",
    "\n",
    "import math\n",
    "pd.options.display.float_format = '{:,.2f}'.format\n",
    "\n",
    "import urllib.request\n",
    "import time\n",
    "import bs4 as bs\n",
    "#from geopy.geocoders import Nominatim\n",
    "#import geopandas as gpd\n",
    "import seaborn as sns\n",
    "from scipy import stats\n",
    "from bs4 import BeautifulSoup\n",
    "from requests.exceptions import RequestException\n",
    "from contextlib import closing\n",
    "from requests import get\n",
    "import re\n",
    "import warnings\n",
    "warnings.filterwarnings('ignore')\n",
    "\n"
   ]
  },
  {
   "cell_type": "code",
   "execution_count": 2,
   "metadata": {},
   "outputs": [],
   "source": [
    "def download_links(url):\n",
    "    req = urllib.request.Request(url,headers = {'User-Agent':user_agent})\n",
    "    page = urllib.request.urlopen(req)\n",
    "    front_page = BeautifulSoup(page, 'html.parser')\n",
    "    #links = front_page.find_all('div', attrs={'class':'info'})\n",
    "    link_lst = []\n",
    "    \n",
    "    for link in links:\n",
    "        a = str(link).find('href=')\n",
    "        b = str(link).find('-vow')\n",
    "        link_lst.append(str(link)[a+6:b+4])\n",
    "    \n",
    "    return link_lst,front_page"
   ]
  },
  {
   "cell_type": "code",
   "execution_count": 4,
   "metadata": {},
   "outputs": [],
   "source": [
    "# download the links from frontpage\n",
    "links = []\n",
    "for n in np.arange(1,6):\n",
    "    url = 'https://www.zoocasa.com/toronto-on-sold-listings?page='+str(n)\n",
    "    links += download_links(url)"
   ]
  },
  {
   "cell_type": "code",
   "execution_count": 5,
   "metadata": {},
   "outputs": [],
   "source": [
    "#save the links\n",
    "with open(input_dir+'Links20210221.txt', 'w') as f:\n",
    "    for item in links:\n",
    "        f.write(\"%s\\n\" % item)"
   ]
  },
  {
   "cell_type": "code",
   "execution_count": 6,
   "metadata": {},
   "outputs": [],
   "source": [
    "#read links\n",
    "links = []\n",
    "with open(input_dir+'Links20210221.txt', 'r') as f:\n",
    "        links.append(f.readlines())\n",
    "f.close()\n",
    "links = links[0]\n",
    "links = [s[:-1] for s in links]\n"
   ]
  },
  {
   "cell_type": "code",
   "execution_count": 7,
   "metadata": {},
   "outputs": [
    {
     "data": {
      "text/plain": [
       "125"
      ]
     },
     "execution_count": 7,
     "metadata": {},
     "output_type": "execute_result"
    }
   ],
   "source": [
    "len(links)"
   ]
  },
  {
   "cell_type": "code",
   "execution_count": 8,
   "metadata": {},
   "outputs": [],
   "source": [
    "def parse_data(html):\n",
    "    #Extract information with class named\n",
    "    info_lst = []\n",
    "    \n",
    "    if html.find(\"span\",{'itemprop':'addressLocality'}) != None:\n",
    "        info_lst.append(['city',html.find(\"span\",{'itemprop':'addressLocality'}).text])\n",
    "    \n",
    "    if html.find(\"span\",{'itemprop':'addressRegion'}) != None:\n",
    "        info_lst.append(['region',html.find(\"span\",{'itemprop':'addressRegion'}).text])\n",
    "        \n",
    "    if html.find(\"meta\",{'itemprop':'postalCode'}) != None:\n",
    "        info_lst.append(['poscode',html.find(\"meta\",{'itemprop':'postalCode'}).get(\"content\")])\n",
    "        \n",
    "    if html.find(\"meta\",{'itemprop':'addressCountry'}) != None:\n",
    "        info_lst.append(['country',html.find(\"meta\",{'itemprop':'addressCountry'}).get(\"content\")])\n",
    "   \n",
    "    #Extract the information with class\n",
    "    soldprice = html.find(\"div\",{'class':'sold-price'})\n",
    "    if soldprice != None:\n",
    "        if soldprice.find('span', class_='blur') != None:\n",
    "            info_lst.append(['soldPrice',soldprice.find('span', class_='blur').text])\n",
    "    \n",
    "    listprice = html.find(\"div\",{'class':'list-price'})\n",
    "    if listprice != None:\n",
    "        if listprice.find('span', class_='blur') != None:\n",
    "            info_lst.append(['listPrice',listprice.find('span', class_='blur').text])\n",
    "    \n",
    "    bedbath = None\n",
    "    if html.find(\"div\",{'class':'beds-baths'}) != None:\n",
    "        bedbath = html.find(\"div\",{'class':'beds-baths'}).findAll('span', class_='blur')\n",
    "        \n",
    "    lst = ['beds','bath','sqft','parking']\n",
    "    if bedbath != None:\n",
    "        for n in np.arange(len(bedbath)):\n",
    "            info = bedbath[n].text\n",
    "            info_lst.append([lst[n],info])\n",
    "\n",
    "    #Append description\n",
    "    if html.find('p',{'class':'description padded'}) != None:\n",
    "        info_lst.append(['description',str(html.find('p',{'class':'description padded'}).find('span',class_ = \"blur\"))[19:-7]])\n",
    "\n",
    "    #Extract the information without span\n",
    "    lst = []\n",
    "    for ele in html.findAll('span'):\n",
    "        if str(ele).find('span>')==1 and str(ele).find('</span>')>2:\n",
    "                ele = str(ele).replace('<span>','').replace('</span>','')\n",
    "                lst.append(ele)\n",
    "    for var in [v for v in col_list if v in lst]:\n",
    "        info_lst.append([var, lst[lst.index(var)+1]])\n",
    "    \n",
    "    #create dataframe\n",
    "    \n",
    "    dictionary = {}\n",
    "    for i in range(len(info_lst)):\n",
    "        dictionary[info_lst[i][0]] = [info_lst[i][1]]\n",
    "    info_df = pd.DataFrame.from_dict(dictionary)\n",
    "    return info_df\n"
   ]
  },
  {
   "cell_type": "code",
   "execution_count": 9,
   "metadata": {},
   "outputs": [],
   "source": [
    "def get_details(link_lst):\n",
    "    house_details = pd.DataFrame(columns=col_list)\n",
    "    for link in link_lst:\n",
    "        url = 'https://www.zoocasa.com' + str(link)\n",
    "        req = urllib.request.Request('https://www.zoocasa.com'+link,headers = {'User-Agent':user_agent})\n",
    "        page = urllib.request.urlopen(req)\n",
    "        html = BeautifulSoup(page, 'lxml')\n",
    "        #print(html)\n",
    "        house_details = pd.concat([house_details,parse_data(html)],axis=0)\n",
    "    return house_details"
   ]
  },
  {
   "cell_type": "code",
   "execution_count": null,
   "metadata": {},
   "outputs": [],
   "source": [
    "for n in np.arange(5):\n",
    "    details = get_details(links[n:n+500])\n",
    "    details.to_csv(input_dir+'Link'+str(n)+'_'+str(n+500)+'.csv')"
   ]
  },
  {
   "cell_type": "code",
   "execution_count": 10,
   "metadata": {
    "scrolled": true
   },
   "outputs": [],
   "source": [
    "link = links[0]\n",
    "url = 'https://condos.ca/toronto?mode=Sold&end_date_unix=relative%2C-365&page=2'\n",
    "req = urllib.request.Request(url,headers = {'User-Agent':user_agent})\n",
    "page = urllib.request.urlopen(req)\n",
    "html = BeautifulSoup(page, 'html5lib')"
   ]
  },
  {
   "cell_type": "code",
   "execution_count": 39,
   "metadata": {},
   "outputs": [],
   "source": [
    "for n in np.arange(100,2000,500):\n",
    "    details = get_details(links[n:n+500])\n",
    "    details.to_csv(input_dir+'Link'+str(n)+'_'+str(n+500)+'.csv')"
   ]
  },
  {
   "cell_type": "code",
   "execution_count": 4,
   "metadata": {
    "scrolled": true
   },
   "outputs": [],
   "source": [
    "df = pd.DataFrame()\n",
    "for n in np.arange(0,16000,500):\n",
    "    details = pd.read_csv(input_dir+'Link'+str(n)+'_'+str(n+500)+'.csv')\n",
    "    df = pd.concat([df,details],axis=0)"
   ]
  },
  {
   "cell_type": "code",
   "execution_count": 5,
   "metadata": {},
   "outputs": [],
   "source": [
    "df.to_csv(input_dir +'data.csv')"
   ]
  },
  {
   "cell_type": "code",
   "execution_count": 19,
   "metadata": {},
   "outputs": [],
   "source": [
    "df.drop(columns = ['listprice','soldprice','Unnamed: 0'], inplace = True)"
   ]
  },
  {
   "cell_type": "code",
   "execution_count": 80,
   "metadata": {},
   "outputs": [],
   "source": [
    "def str_to_num(_str):\n",
    "    if type(_str) == str:\n",
    "        if re.sub('[^0-9]+', '', _str) != '':\n",
    "            return float(re.sub('[^0-9]+', '', _str))\n",
    "        else:\n",
    "            return 0\n",
    "    else:\n",
    "        return _str"
   ]
  },
  {
   "cell_type": "code",
   "execution_count": 160,
   "metadata": {},
   "outputs": [],
   "source": [
    "df['sqft_min'] = df['sqft'].apply(lambda x:x[:x.find('–')])\n",
    "df['sqft_max'] = df['sqft'].apply(lambda x:x[x.find('–')+1:x.find('sq')])\n",
    "df['zip'] = df['poscode'].apply(lambda x:str(x)[:3])\n",
    "df['num_beds'] = df['beds'].apply(lambda x:str_to_num(x[:x.find('+')]) + str_to_num(x[x.find('+')+1:x.find('beds')])*0.6)"
   ]
  },
  {
   "cell_type": "code",
   "execution_count": null,
   "metadata": {},
   "outputs": [],
   "source": []
  },
  {
   "cell_type": "code",
   "execution_count": null,
   "metadata": {},
   "outputs": [],
   "source": []
  },
  {
   "cell_type": "code",
   "execution_count": null,
   "metadata": {},
   "outputs": [],
   "source": []
  },
  {
   "cell_type": "code",
   "execution_count": null,
   "metadata": {},
   "outputs": [],
   "source": []
  },
  {
   "cell_type": "code",
   "execution_count": 13,
   "metadata": {},
   "outputs": [],
   "source": [
    "col_list =   ['city',\n",
    "'region',\n",
    " 'poscode',\n",
    " 'country',\n",
    " 'soldprice',\n",
    " 'listprice',\n",
    " 'beds',\n",
    " 'baths',\n",
    " 'sqft',\n",
    " 'parking',\n",
    " 'comments',\n",
    " 'MLS® Number',\n",
    " 'Type',\n",
    " 'Levels',\n",
    " 'Size',\n",
    " 'Maintenance Fees',\n",
    " 'Taxes',\n",
    " 'Locker',\n",
    " 'Ensuite Laundry',\n",
    " 'Balcony',\n",
    " 'Furnished',\n",
    " 'Laundry Level',\n",
    " 'Exposure',\n",
    " 'Exterior',\n",
    " 'Garage',\n",
    " 'Approx. Age',\n",
    " 'Stories',\n",
    " 'Pets',\n",
    " 'Corp Number',\n",
    " 'Elevator',\n",
    " 'Concierge',\n",
    " 'Exercise Room',\n",
    " 'Indoor Pool',\n",
    " 'Party/Meeting Room',\n",
    " 'Rooftop Deck/Garden',\n",
    " 'Visitor Parking',\n",
    " 'Hydro',\n",
    " 'Water',\n",
    " 'Building Insurance',\n",
    " 'Condo Taxes',\n",
    " 'Cable TV',\n",
    " 'Central Air',\n",
    " 'Parking Maintenance',\n",
    " 'A/C',\n",
    " 'Heating Fuel',\n",
    " 'Central Vac',\n",
    " 'Fireplace',\n",
    " 'Acreage',\n",
    " 'Lot Size',\n",
    " 'Basement',\n",
    " 'Driveway',\n",
    " 'Garage Spaces',\n",
    " 'Guest Suites',\n",
    " 'Media Room',\n",
    " 'Bbqs Allowed',\n",
    " 'Gym',\n",
    " 'Bike Storage',\n",
    " 'Recreation Room',\n",
    " 'Security System',\n",
    " 'Outdoor Pool',\n",
    " 'Security Guard']"
   ]
  },
  {
   "cell_type": "code",
   "execution_count": 8,
   "metadata": {},
   "outputs": [
    {
     "data": {
      "text/html": [
       "<div>\n",
       "<style scoped>\n",
       "    .dataframe tbody tr th:only-of-type {\n",
       "        vertical-align: middle;\n",
       "    }\n",
       "\n",
       "    .dataframe tbody tr th {\n",
       "        vertical-align: top;\n",
       "    }\n",
       "\n",
       "    .dataframe thead th {\n",
       "        text-align: right;\n",
       "    }\n",
       "</style>\n",
       "<table border=\"1\" class=\"dataframe\">\n",
       "  <thead>\n",
       "    <tr style=\"text-align: right;\">\n",
       "      <th></th>\n",
       "      <th>var</th>\n",
       "    </tr>\n",
       "  </thead>\n",
       "  <tbody>\n",
       "    <tr>\n",
       "      <th>0</th>\n",
       "      <td>city</td>\n",
       "    </tr>\n",
       "    <tr>\n",
       "      <th>1</th>\n",
       "      <td>region</td>\n",
       "    </tr>\n",
       "    <tr>\n",
       "      <th>2</th>\n",
       "      <td>poscode</td>\n",
       "    </tr>\n",
       "    <tr>\n",
       "      <th>3</th>\n",
       "      <td>country</td>\n",
       "    </tr>\n",
       "    <tr>\n",
       "      <th>4</th>\n",
       "      <td>soldprice</td>\n",
       "    </tr>\n",
       "    <tr>\n",
       "      <th>...</th>\n",
       "      <td>...</td>\n",
       "    </tr>\n",
       "    <tr>\n",
       "      <th>56</th>\n",
       "      <td>Bike Storage</td>\n",
       "    </tr>\n",
       "    <tr>\n",
       "      <th>57</th>\n",
       "      <td>Recreation Room</td>\n",
       "    </tr>\n",
       "    <tr>\n",
       "      <th>58</th>\n",
       "      <td>Security System</td>\n",
       "    </tr>\n",
       "    <tr>\n",
       "      <th>59</th>\n",
       "      <td>Outdoor Pool</td>\n",
       "    </tr>\n",
       "    <tr>\n",
       "      <th>60</th>\n",
       "      <td>Security Guard</td>\n",
       "    </tr>\n",
       "  </tbody>\n",
       "</table>\n",
       "<p>61 rows × 1 columns</p>\n",
       "</div>"
      ],
      "text/plain": [
       "                var\n",
       "0              city\n",
       "1            region\n",
       "2           poscode\n",
       "3           country\n",
       "4         soldprice\n",
       "..              ...\n",
       "56     Bike Storage\n",
       "57  Recreation Room\n",
       "58  Security System\n",
       "59     Outdoor Pool\n",
       "60   Security Guard\n",
       "\n",
       "[61 rows x 1 columns]"
      ]
     },
     "execution_count": 8,
     "metadata": {},
     "output_type": "execute_result"
    }
   ],
   "source": [
    "pd.DataFrame(col_list,columns=['var'])"
   ]
  },
  {
   "cell_type": "code",
   "execution_count": null,
   "metadata": {
    "collapsed": true
   },
   "outputs": [],
   "source": []
  },
  {
   "cell_type": "code",
   "execution_count": null,
   "metadata": {
    "collapsed": true
   },
   "outputs": [],
   "source": []
  }
 ],
 "metadata": {
  "kernelspec": {
   "display_name": "Python 3",
   "language": "python",
   "name": "python3"
  },
  "language_info": {
   "codemirror_mode": {
    "name": "ipython",
    "version": 3
   },
   "file_extension": ".py",
   "mimetype": "text/x-python",
   "name": "python",
   "nbconvert_exporter": "python",
   "pygments_lexer": "ipython3",
   "version": "3.8.5"
  }
 },
 "nbformat": 4,
 "nbformat_minor": 2
}
